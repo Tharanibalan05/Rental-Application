{
 "cells": [
  {
   "cell_type": "code",
   "execution_count": 1,
   "metadata": {},
   "outputs": [],
   "source": [
    "import tkinter as tk\n",
    "from tkinter import messagebox\n",
    "\n",
    "# Function to show the selected options\n",
    "def show_selection():\n",
    "    vehicle = vehicle_var.get()\n",
    "    district = district_var.get()\n",
    "    if vehicle and district:\n",
    "        messagebox.showinfo(\"Selection\", f\"You selected:\\nVehicle: {vehicle}\\nDistrict: {district}\")\n",
    "    else:\n",
    "        messagebox.showwarning(\"Warning\", \"Please select both vehicle and district.\")\n",
    "\n",
    "# Create main window\n",
    "root = tk.Tk()\n",
    "root.title(\"Vehicle Selection App\")\n",
    "root.geometry(\"300x250\")\n",
    "\n",
    "# Vehicle Options\n",
    "vehicle_label = tk.Label(root, text=\"Select a Vehicle:\")\n",
    "vehicle_label.pack(pady=5)\n",
    "\n",
    "vehicle_var = tk.StringVar()\n",
    "vehicle_list = [\"Tractor\", \"JCB\", \"Truck\", \"Loader\", \"Crop Sprayer\", \"Baler\"]\n",
    "vehicle_menu = tk.OptionMenu(root, vehicle_var, *vehicle_list)\n",
    "vehicle_menu.pack(pady=5)\n",
    "\n",
    "# District Options\n",
    "district_label = tk.Label(root, text=\"Select a District:\")\n",
    "district_label.pack(pady=5)\n",
    "\n",
    "district_var = tk.StringVar()\n",
    "district_list = [\"Tanjore\", \"Thiruvarur\", \"Mayiladuthurai\", \"Nagapattinam\",\"Cuddalore\"]\n",
    "district_menu = tk.OptionMenu(root, district_var, *district_list)\n",
    "district_menu.pack(pady=5)\n",
    "\n",
    "# Submit Button\n",
    "submit_btn = tk.Button(root, text=\"Submit\", command=show_selection)\n",
    "submit_btn.pack(pady=20)\n",
    "\n",
    "# Run the app\n",
    "root.mainloop()\n"
   ]
  }
 ],
 "metadata": {
  "kernelspec": {
   "display_name": "Python 3",
   "language": "python",
   "name": "python3"
  },
  "language_info": {
   "codemirror_mode": {
    "name": "ipython",
    "version": 3
   },
   "file_extension": ".py",
   "mimetype": "text/x-python",
   "name": "python",
   "nbconvert_exporter": "python",
   "pygments_lexer": "ipython3",
   "version": "3.12.0"
  }
 },
 "nbformat": 4,
 "nbformat_minor": 2
}
